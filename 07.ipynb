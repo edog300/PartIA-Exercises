{
 "cells": [
  {
   "cell_type": "markdown",
   "metadata": {},
   "source": [
    "# Part IA Computing: Michaelmas Term\n",
    "## Exercises 07.1, 07.2, 07.3 and 07.4\n",
    "\n",
    "Edwin Bahrami Balani ([`eb677`](mailto:eb677@cam.ac.uk))"
   ]
  },
  {
   "cell_type": "code",
   "execution_count": 1,
   "metadata": {
    "collapsed": true
   },
   "outputs": [],
   "source": [
    "# Part IA Computing: Michaelmas Term\n",
    "# Edwin Bahrami Balani (eb677@cam.ac.uk)\n",
    "\n",
    "# Exercises 07.1, 07.2, 07.3 and 07.4\n",
    "import numpy as np"
   ]
  },
  {
   "cell_type": "code",
   "execution_count": 2,
   "metadata": {
    "collapsed": false,
    "scrolled": false
   },
   "outputs": [
    {
     "data": {
      "text/plain": [
       "numpy.ndarray"
      ]
     },
     "execution_count": 2,
     "metadata": {},
     "output_type": "execute_result"
    }
   ],
   "source": [
    "type(np.array([]))"
   ]
  },
  {
   "cell_type": "markdown",
   "metadata": {},
   "source": [
    "> ## Exercise 07.1 (indexing and timing)\n",
    "> \n",
    "> Create two very long NumPy arrays `x` and `y` and sum the arrays using:\n",
    "> \n",
    "> 1. The NumPy addition syntax, `z = x + y`; and\n",
    "> 2. A `for` loop that computes the sum entry-by-entry\n",
    "> \n",
    "> Compare the time required for the two approaches for vectors of different lengths. The values of the array entries are not important for this test.\n",
    "> \n",
    "> *Hint:* To loop over an array using indices, try a construction like:\n",
    "> ```python\n",
    "> x = np.ones(100)\n",
    "> y = np.ones(len(x))\n",
    "> for i in range(len(x)):\n",
    ">     print(x[i]*y[i])\n",
    "> ```"
   ]
  },
  {
   "cell_type": "code",
   "execution_count": 3,
   "metadata": {
    "collapsed": false
   },
   "outputs": [
    {
     "name": "stdout",
     "output_type": "stream",
     "text": [
      "The slowest run took 8.66 times longer than the fastest. This could mean that an intermediate result is being cached.\n",
      "1000000 loops, best of 3: 1.14 µs per loop\n",
      "1000 loops, best of 3: 547 µs per loop\n"
     ]
    }
   ],
   "source": [
    "# Part IA Computing: Michaelmas Term\n",
    "# Edwin Bahrami Balani (eb677@cam.ac.uk)\n",
    "\n",
    "# Exercise 07.1\n",
    "import numpy as np\n",
    "\n",
    "x = np.linspace(0, 238746, 1000)\n",
    "y = np.linspace(287652, 28642, 1000)\n",
    "%timeit z1 = x + y\n",
    "\n",
    "def sum_array(x, y):\n",
    "    z = np.empty([len(x), 1])\n",
    "    for i in range(len(x)):\n",
    "        z[i] = x[i] + y[i]\n",
    "    return z\n",
    "%timeit z2 = sum_array(x, y)"
   ]
  },
  {
   "cell_type": "markdown",
   "metadata": {},
   "source": [
    "> ## Exercise 07.2 (member functions and slicing)\n",
    "> \n",
    "> Anonymised scores (out of 60) for an examination are stored in a NumPy array. Write:\n",
    "> \n",
    "> 1. A function that takes a NumPy array of the raw scores and returns the scores as a percentage sorted from \n",
    ">    lowest to highest (try using `scores.sort()`, where `scores` is an Numpy array).\n",
    "> 1. A function that returns the maximum, minimum and mean of the raw scores as a dictionary with the \n",
    ">    keys '`min`', '`max`' and '`mean`'. Use the NumPy array functions `min()`, `max()` and `mean()` to do the \n",
    ">    computation, e.g. `max = scores.max()`.\n",
    "> 1. Modify your function for the min, max and mean to optionally exclude the highest and lowest scores from the \n",
    ">    computation of the min, max and mean. *Hint:* sort the array of scores and use array slicing to exclude\n",
    ">    the first and the last entries.\n",
    "> \n",
    "> Use the scores \n",
    "> ```python\n",
    "> scores = np.array([58.0, 35.0, 24.0, 42, 7.8])\n",
    "> ```\n",
    "> to test your functions."
   ]
  },
  {
   "cell_type": "code",
   "execution_count": 4,
   "metadata": {
    "collapsed": false
   },
   "outputs": [
    {
     "name": "stdout",
     "output_type": "stream",
     "text": [
      "[ 13.          40.          58.33333333  70.          96.66666667]\n",
      "{'max': 58.0, 'mean': 33.359999999999999, 'min': 7.7999999999999998}\n",
      "{'max': 42.0, 'mean': 33.666666666666664, 'min': 24.0}\n"
     ]
    }
   ],
   "source": [
    "# Part IA Computing: Michaelmas Term\n",
    "# Edwin Bahrami Balani (eb677@cam.ac.uk)\n",
    "\n",
    "# Exercise 07.2\n",
    "import numpy as np\n",
    "\n",
    "to_percentages = lambda ar: np.sort(ar)/60*100\n",
    "stats = lambda ar: {'min':ar.min(), 'max':ar.max(), 'mean':ar.mean()}\n",
    "stats_slice = lambda ar: stats(np.sort(ar)[1:-1])\n",
    "\n",
    "scores = np.array([58.0, 35.0, 24.0, 42, 7.8])\n",
    "\n",
    "print(to_percentages(scores))\n",
    "print(stats(scores))\n",
    "print(stats_slice(scores))"
   ]
  },
  {
   "cell_type": "markdown",
   "metadata": {},
   "source": [
    "> ## Exercise 07.3 (slicing)\n",
    "> \n",
    "> For the two-dimensional array"
   ]
  },
  {
   "cell_type": "code",
   "execution_count": 5,
   "metadata": {
    "collapsed": false
   },
   "outputs": [
    {
     "name": "stdout",
     "output_type": "stream",
     "text": [
      "[[   4.      7.     -2.43   67.1 ]\n",
      " [  -4.     64.     54.7    -3.33]\n",
      " [   2.43   23.2     3.64    4.11]\n",
      " [   1.2     2.5  -113.2   323.22]]\n"
     ]
    }
   ],
   "source": [
    "A = np.array([[4.0, 7.0, -2.43, 67.1],\n",
    "             [-4.0, 64.0, 54.7, -3.33],\n",
    "             [2.43, 23.2, 3.64, 4.11],\n",
    "             [1.2, 2.5, -113.2, 323.22]])\n",
    "print(A)"
   ]
  },
  {
   "cell_type": "markdown",
   "metadata": {},
   "source": [
    "> use array slicing to\n",
    "> \n",
    "> 1. Extract the third column as a 1D array\n",
    "> 2. Extract the first two rows as a 2D sub-array\n",
    "> 3. Extract the bottom-right $2 \\times 2$ block as a 2D sub-array\n",
    "> 4. Compute the tranpose of `A` (search online to find the syntax for how to do this)\n",
    "> 5. Sum the last column of `A`\n",
    "> \n",
    "> Print the results to the screen to check. Try to use array slicing such that your code would still work if the dimensions of `A` were enlarged."
   ]
  },
  {
   "cell_type": "code",
   "execution_count": 6,
   "metadata": {
    "collapsed": false
   },
   "outputs": [
    {
     "name": "stdout",
     "output_type": "stream",
     "text": [
      "[[   4.      7.     -2.43   67.1 ]\n",
      " [  -4.     64.     54.7    -3.33]\n",
      " [   2.43   23.2     3.64    4.11]\n",
      " [   1.2     2.5  -113.2   323.22]]\n",
      "\n",
      "Third column\n",
      "[  -2.43   54.7     3.64 -113.2 ]\n",
      "\n",
      "First two rows\n",
      "[[  4.     7.    -2.43  67.1 ]\n",
      " [ -4.    64.    54.7   -3.33]]\n",
      "\n",
      "Bottom 2x2 corner\n",
      "[[   3.64    4.11]\n",
      " [-113.2   323.22]]\n",
      "\n",
      "Sum of last column\n",
      "391.1\n"
     ]
    }
   ],
   "source": [
    "# Part IA Computing: Michaelmas Term\n",
    "# Edwin Bahrami Balani (eb677@cam.ac.uk)\n",
    "\n",
    "# Exercise 07.3\n",
    "import numpy as np\n",
    "\n",
    "A = np.array([[4.0, 7.0, -2.43, 67.1],\n",
    "             [-4.0, 64.0, 54.7, -3.33],\n",
    "             [2.43, 23.2, 3.64, 4.11],\n",
    "             [1.2, 2.5, -113.2, 323.22]])\n",
    "print(A)\n",
    "print()\n",
    "\n",
    "print(\"Third column\")\n",
    "print(A[:,2])\n",
    "print()\n",
    "\n",
    "print(\"First two rows\")\n",
    "print(A[0:2])\n",
    "print()\n",
    "\n",
    "print(\"Bottom 2x2 corner\")\n",
    "print(A[2:4,2:4])\n",
    "print()\n",
    "\n",
    "print(\"Sum of last column\")\n",
    "print(sum(A[:,3]))"
   ]
  },
  {
   "cell_type": "markdown",
   "metadata": {},
   "source": [
    "> ## Exercise 07.4 (optional extension)\n",
    "> \n",
    ">In a previous exercise you implemented the bisection algorithm to find approximate roots of a mathematical function. Use the SciPy bisection function `optimize.bisect` (http://docs.scipy.org/doc/scipy-0.14.0/reference/generated/scipy.optimize.bisect.html) to find roots of the mathematical function that was used in the previous exercise. Compare the results computed by SciPy and your program from the earlier exercise, and compare the computational time (using `%time`)."
   ]
  },
  {
   "cell_type": "code",
   "execution_count": 7,
   "metadata": {
    "collapsed": false
   },
   "outputs": [
    {
     "name": "stdout",
     "output_type": "stream",
     "text": [
      "Using compute_root\n",
      "10000 loops, best of 3: 42.4 µs per loop\n",
      "10000 loops, best of 3: 43.3 µs per loop\n",
      "\n",
      "Using root_recur\n",
      "10000 loops, best of 3: 42.5 µs per loop\n",
      "10000 loops, best of 3: 44.9 µs per loop\n",
      "\n",
      "Using scipy.optimize.bisect\n",
      "100000 loops, best of 3: 20.3 µs per loop\n",
      "100000 loops, best of 3: 18.7 µs per loop\n"
     ]
    }
   ],
   "source": [
    "# Part IA Computing: Michaelmas Term\n",
    "# Edwin Bahrami Balani (eb677@cam.ac.uk)\n",
    "\n",
    "# Exercise 07.4\n",
    "import numpy as np\n",
    "from scipy import optimize\n",
    "\n",
    "def compute_root(f, x0, x1, tol, max_it):\n",
    "    \"\"\"Finds a root of function f(x) between x=x0 and x=x1 using bisection\"\"\"\n",
    "    i = 0\n",
    "    xmid = (x0+x1)/2\n",
    "    fmid = f(xmid)\n",
    "    while (abs(fmid) >= tol) and (i < max_it):\n",
    "        i += 1\n",
    "        xmid = (x0+x1)/2\n",
    "        fmid = f(xmid)\n",
    "        if (fmid * f(x0) < 0):\n",
    "            x1 = xmid\n",
    "        else:\n",
    "            x0 = xmid\n",
    "    return xmid, fmid, i\n",
    "\n",
    "def root_recur(f, x0, x1, tol, rec_count=1):\n",
    "    \"\"\"Recursive bisection-method root finding function for x in [x0, x1]\"\"\"\n",
    "    xmid = (x0+x1)/2\n",
    "    fmid = f(xmid)\n",
    "    if abs(fmid) < tol:\n",
    "        return xmid, fmid, rec_count\n",
    "    if (fmid * f(x0) < 0):\n",
    "        return(root_recur(f, x0, xmid, tol, rec_count+1))\n",
    "    else:\n",
    "        return(root_recur(f, xmid, x1, tol, rec_count+1))\n",
    "    \n",
    "\n",
    "f = lambda x: x**3 - 6*(x**2) + 4*x + 12\n",
    "g = lambda x: 7*(x**2) - 5*x - 12 # roots are x = -1, x = 12/7 = 1.714\n",
    "\n",
    "print(\"Using compute_root\")\n",
    "%timeit x = compute_root(f, 3, 6, 1e-6, 1000)\n",
    "%timeit x = compute_root(g, 1, 4, 1e-8, 1000)\n",
    "print()\n",
    "\n",
    "print(\"Using root_recur\")\n",
    "%timeit x = root_recur  (f, 3, 6, 1e-6)\n",
    "%timeit x = root_recur  (g, 1, 4, 1e-8)\n",
    "print()\n",
    "\n",
    "print(\"Using scipy.optimize.bisect\")\n",
    "%timeit x = optimize.bisect(f, 3, 6, xtol=1e-6, maxiter=1000)\n",
    "%timeit x = optimize.bisect(g, 1, 4, xtol=1e-8, maxiter=1000)"
   ]
  }
 ],
 "metadata": {
  "anaconda-cloud": {},
  "kernelspec": {
   "display_name": "Python [default]",
   "language": "python",
   "name": "python3"
  },
  "language_info": {
   "codemirror_mode": {
    "name": "ipython",
    "version": 3
   },
   "file_extension": ".py",
   "mimetype": "text/x-python",
   "name": "python",
   "nbconvert_exporter": "python",
   "pygments_lexer": "ipython3",
   "version": "3.5.2"
  }
 },
 "nbformat": 4,
 "nbformat_minor": 1
}
