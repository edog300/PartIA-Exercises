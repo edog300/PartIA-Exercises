{
 "cells": [
  {
   "cell_type": "markdown",
   "metadata": {},
   "source": [
    "# Part IA Computing: Michaelmas Term\n",
    "## Exercises 09.1, 09.2 and 09.3\n",
    "\n",
    "Edwin Bahrami Balani ([`eb677`](mailto:eb677@cam.ac.uk))"
   ]
  },
  {
   "cell_type": "markdown",
   "metadata": {},
   "source": [
    "> ## Exercise 09.1 (checking data validity)\n",
    "> \n",
    "> The Fibonacci series is valid only for $n \\ge 0$. Add to the Fibonacci function in this notebook a check that raises an exception if $n < 0$. Try some invalid data cases to check that an exception is raised.\n",
    "> \n",
    "> *Optional:* Use `pytest` to test that an exception *is* raised for some $n < 0$ cases."
   ]
  },
  {
   "cell_type": "code",
   "execution_count": 3,
   "metadata": {
    "collapsed": false
   },
   "outputs": [
    {
     "name": "stdout",
     "output_type": "stream",
     "text": [
      "15 610\n",
      "14 377\n",
      "13 233\n",
      "12 144\n",
      "11 89\n",
      "10 55\n",
      "9 34\n",
      "8 21\n",
      "7 13\n",
      "6 8\n",
      "5 5\n",
      "4 3\n",
      "3 2\n",
      "2 1\n",
      "1 1\n",
      "0 0\n",
      "-1 Input value less than 0\n",
      "-2 Input value less than 0\n",
      "-3 Input value less than 0\n",
      "-4 Input value less than 0\n",
      "-5 Input value less than 0\n",
      "-6 Input value less than 0\n",
      "-7 Input value less than 0\n",
      "-8 Input value less than 0\n",
      "-9 Input value less than 0\n",
      "-10 Input value less than 0\n",
      "-11 Input value less than 0\n",
      "-12 Input value less than 0\n"
     ]
    }
   ],
   "source": [
    "# Part IA Computing: Michaelmas Term\n",
    "# Edwin Bahrami Balani (eb677@cam.ac.uk)\n",
    "\n",
    "# Exercise 09.1\n",
    "import pytest\n",
    "\n",
    "def f(n): \n",
    "    \"Compute the nth Fibonacci number using recursion\"\n",
    "    if n < 0:\n",
    "        raise ValueError(\"Input value less than 0\")\n",
    "    elif n == 0:\n",
    "        # This doesn't call f, so it breaks out of the recursion loop\n",
    "        return 0\n",
    "    elif n == 1:\n",
    "        # This doesn't call f, so it breaks out of the recursion loop\n",
    "        return 1\n",
    "    else:\n",
    "        # This calls f for n-1 and n-2 (recursion), and returns the sum \n",
    "        return f(n - 1) + f(n - 2)\n",
    "\n",
    "\n",
    "for i in range(15,-13,-1):\n",
    "    try:\n",
    "        print(i, f(i))\n",
    "    except ValueError as err:\n",
    "        print(i, err)\n",
    "\n",
    "with pytest.raises(ValueError):\n",
    "    f(-1)\n",
    "with pytest.raises(ValueError):\n",
    "    f(-234)\n",
    "with pytest.raises(ValueError):\n",
    "    f(-5932.8)\n",
    "with pytest.raises(ValueError):\n",
    "    f(-17)\n"
   ]
  },
  {
   "cell_type": "markdown",
   "metadata": {},
   "source": [
    "> ## Exercise 09.2 (catching and dealing with exceptions)\n",
    "> \n",
    "> For the loan interest question in Activity 01 that involved user-input, restructure that problem such that \n",
    "> it checks the validity of the user input (principal and number of days). For invalid input your program \n",
    "> should prompt the user to try again."
   ]
  },
  {
   "cell_type": "code",
   "execution_count": 4,
   "metadata": {
    "collapsed": false
   },
   "outputs": [
    {
     "name": "stdout",
     "output_type": "stream",
     "text": [
      "Enter loan principal: 123\n",
      "Enter loan period in days: 1\n",
      "Principal:\t\t\t£ 123.0\n",
      "Official Bank Rate:\t\t0.25%\n",
      "Rate over Official Bank Rate:\t1.49%\n",
      "Period:\t\t\t\t1 days\n",
      "\n",
      "Calculated interest rate:\t1.7399999999999998%\n",
      "INTEREST PAYABLE = \t\t£ 0.005863561643835616\n"
     ]
    }
   ],
   "source": [
    "# Part IA Computing: Michaelmas Term\n",
    "# Edwin Bahrami Balani (eb677@cam.ac.uk)\n",
    "\n",
    "# Exercise 09.2\n",
    "# Part IA Computing: Michaelmas Term\n",
    "# Edwin Bahrami Balani (eb677@cam.ac.uk)\n",
    "\n",
    "# Exercise 01.2\n",
    "# Version B - some user input\n",
    "\n",
    "def get_number(prompt, cast_type, lowerbound = 0, upperbound = None, lower_inclusive = True, upper_inclusive = False):\n",
    "    while True:\n",
    "        try:\n",
    "            v = cast_type(input(prompt))\n",
    "            if lowerbound != None and v < lowerbound:\n",
    "                raise ValueError(\"value entered is less than\" \n",
    "                                 +(\" or equal to \" if not lower_inclusive else \" \")\n",
    "                                 +str(lowerbound))\n",
    "            if upperbound != None and v >= upperbound:\n",
    "                raise ValueError(\"value entered is greater than\" \\\n",
    "                                 +(\" or equal to\" if not upper_inclusive else \"\")\n",
    "                                 +str(upperbound))\n",
    "            return v\n",
    "        except ValueError as err:\n",
    "            print(\"Invalid value: {}\".format(err))\n",
    "\n",
    "principal = get_number(\"Enter loan principal: \", float)\n",
    "bank_rate = 0.25 / 100\n",
    "rate_over_br = 1.49 / 100\n",
    "period = get_number(\"Enter loan period in days: \", int)\n",
    "\n",
    "interest_rate = bank_rate + rate_over_br\n",
    "\n",
    "interest = principal * interest_rate * (period / 365)\n",
    "\n",
    "def p_tab(*args):\n",
    "    print(*args, sep='\\t')\n",
    "\n",
    "p_tab(\"Principal:\\t\\t\", '£ '+str(principal))\n",
    "p_tab(\"Official Bank Rate:\\t\", str(bank_rate*100)+'%')\n",
    "p_tab(\"Rate over Official Bank Rate:\", str(rate_over_br*100)+'%')\n",
    "p_tab(\"Period:\\t\\t\\t\", str(period)+\" days\")\n",
    "p_tab()\n",
    "p_tab(\"Calculated interest rate:\", str(interest_rate*100)+'%') # Float arithmetic...\n",
    "\n",
    "p_tab(\"INTEREST PAYABLE = \\t\", '£ '+str(interest))"
   ]
  },
  {
   "cell_type": "markdown",
   "metadata": {},
   "source": [
    "> ## Exercise 09.3 (raising exceptions)\n",
    "> \n",
    "> Modify your program from the bisection exercise in Activity 04 to raise an error if the maximum number of iterations is exceeded. Reduce the maximum allowed iterations to test that an exception is raised.\n",
    "> \n",
    "> Add any other checks on the input data that you think are appropriate."
   ]
  },
  {
   "cell_type": "code",
   "execution_count": 5,
   "metadata": {
    "collapsed": false
   },
   "outputs": [],
   "source": [
    "# Part IA Computing: Michaelmas Term\n",
    "# Edwin Bahrami Balani (eb677@cam.ac.uk)\n",
    "\n",
    "# Exercise 09.3\n",
    "import pytest\n",
    "\n",
    "def compute_root(f, x0, x1, tol, max_it):\n",
    "    \"\"\"Finds a root of function f(x) between x=x0 and x=x1\"\"\"\n",
    "    if not (type(x0) in (int, float) and type(x1) in (int, float)\n",
    "            and type(tol) in (int, float) and type(max_it) is int):\n",
    "        raise TypeError\n",
    "    i = 0\n",
    "    xmid = (x0+x1)/2\n",
    "    fmid = f(xmid)\n",
    "    while (abs(fmid) >= tol):\n",
    "        i += 1\n",
    "        if i > max_it:\n",
    "            raise RuntimeError(\"Iteration limit of \"+str(max_it)+\" exceeded\")\n",
    "        xmid = (x0+x1)/2\n",
    "        fmid = f(xmid)\n",
    "        if (fmid * f(x0) < 0):\n",
    "            x1 = xmid\n",
    "        else:\n",
    "            x0 = xmid\n",
    "    return xmid, fmid, i\n",
    "\n",
    "f = lambda x: x**3 - 6*(x**2) + 4*x + 12\n",
    "g = lambda x: 7*(x**2) - 5*x - 12 # roots are x = -1, x = 1.714 (i.e. 12/7)\n",
    "\n",
    "with pytest.raises(RuntimeError):\n",
    "    print(compute_root(f, x0=3, x1=6, tol=1.0e-6, max_it=10))\n",
    "\n",
    "\n",
    "with pytest.raises(RuntimeError):\n",
    "    print(compute_root(g, x0=-5, x1=2, tol=1.0e-12, max_it=7))\n",
    "with pytest.raises(RuntimeError):\n",
    "    print(compute_root(g, x0= 0, x1=3, tol=1.0e-12, max_it=20))\n",
    "    \n",
    "with pytest.raises(TypeError):\n",
    "    print(compute_root(g, x0=0, x1='bananas', tol=1e-12, max_it=1000))"
   ]
  }
 ],
 "metadata": {
  "anaconda-cloud": {},
  "kernelspec": {
   "display_name": "Python [default]",
   "language": "python",
   "name": "python3"
  },
  "language_info": {
   "codemirror_mode": {
    "name": "ipython",
    "version": 3
   },
   "file_extension": ".py",
   "mimetype": "text/x-python",
   "name": "python",
   "nbconvert_exporter": "python",
   "pygments_lexer": "ipython3",
   "version": "3.5.2"
  }
 },
 "nbformat": 4,
 "nbformat_minor": 1
}
