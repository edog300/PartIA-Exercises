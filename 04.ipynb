{
 "cells": [
  {
   "cell_type": "markdown",
   "metadata": {},
   "source": [
    "# Part IA Computing: Michaelmas Term\n",
    "## Exercises 04.1, 04.2, 04.3, 04.4 and 04.5\n",
    "\n",
    "Edwin Bahrami Balani ([`eb677`](mailto:eb677@cam.ac.uk))"
   ]
  },
  {
   "cell_type": "markdown",
   "metadata": {},
   "source": [
    "> ## Exercise 04.1 (simple function)\n",
    "> \n",
    "> Write a function called `is_odd` which takes an integer as an argument and returns `True` if the argument is odd, otherwise returns `False`. Test your function for several values."
   ]
  },
  {
   "cell_type": "code",
   "execution_count": 6,
   "metadata": {
    "collapsed": false
   },
   "outputs": [
    {
     "name": "stdout",
     "output_type": "stream",
     "text": [
      "1 is odd\n",
      "1 is odd\n",
      "2 is even\n",
      "3 is odd\n",
      "5 is odd\n",
      "8 is even\n",
      "13 is odd\n",
      "21 is odd\n",
      "34 is even\n",
      "55 is odd\n",
      "89 is odd\n",
      "144 is even\n",
      "233 is odd\n",
      "377 is odd\n",
      "610 is even\n",
      "987 is odd\n",
      "1597 is odd\n",
      "2584 is even\n",
      "4181 is odd\n",
      "6765 is odd\n",
      "10946 is even\n",
      "17711 is odd\n",
      "28657 is odd\n",
      "46368 is even\n",
      "75025 is odd\n",
      "121393 is odd\n",
      "196418 is even\n",
      "317811 is odd\n",
      "514229 is odd\n",
      "832040 is even\n",
      "1346269 is odd\n",
      "2178309 is odd\n",
      "3524578 is even\n",
      "5702887 is odd\n",
      "9227465 is odd\n",
      "14930352 is even\n",
      "24157817 is odd\n",
      "39088169 is odd\n",
      "63245986 is even\n",
      "102334155 is odd\n",
      "165580141 is odd\n",
      "267914296 is even\n",
      "433494437 is odd\n",
      "701408733 is odd\n",
      "1134903170 is even\n",
      "1836311903 is odd\n",
      "2971215073 is odd\n",
      "4807526976 is even\n",
      "7778742049 is odd\n",
      "12586269025 is odd\n"
     ]
    }
   ],
   "source": [
    "# Part IA Computing: Michaelmas Term\n",
    "# Edwin Bahrami Balani (eb677@cam.ac.uk)\n",
    "\n",
    "# Exercise 04.1\n",
    "\n",
    "def is_odd(x):\n",
    "    return not (x % 2 == 0)\n",
    "\n",
    "a = 1\n",
    "b = 1\n",
    "for i in range(50):\n",
    "    print(a, \"is odd\" if is_odd(a) else \"is even\")\n",
    "    a, b = (b, a+b) # Fibonacci"
   ]
  },
  {
   "cell_type": "markdown",
   "metadata": {},
   "source": [
    "> ## Exercise 04.2 (functions and default arguments)\n",
    "> \n",
    "> Write a single function that takes the components of a vector of length 2 or 3 and returns the magnitude.\n",
    "> Use default arguments to handle vectors of length 2 or 3 with the same code. Test your function for correctness against hand calculations for a selection of values."
   ]
  },
  {
   "cell_type": "code",
   "execution_count": 2,
   "metadata": {
    "collapsed": false
   },
   "outputs": [
    {
     "name": "stdout",
     "output_type": "stream",
     "text": [
      "5.0\n",
      "7.874007874011811\n",
      "112.71202242884297\n",
      "3.334607083464161\n"
     ]
    }
   ],
   "source": [
    "# Part IA Computing: Michaelmas Term\n",
    "# Edwin Bahrami Balani (eb677@cam.ac.uk)\n",
    "\n",
    "# Exercise 04.2\n",
    "from math import sqrt, pi\n",
    "\n",
    "def mag(a, b, c = 0):\n",
    "    return sqrt(a**2 + b**2 + c**2)\n",
    "\n",
    "print(mag(3, 4)) # should be 5\n",
    "print(mag(2, 3, 7)) # should be 7.874\n",
    "print(mag(52, 100)) # should be 112.7120\n",
    "print(mag(0.5, 1, pi)) # should be 3.334607083"
   ]
  },
  {
   "cell_type": "markdown",
   "metadata": {},
   "source": [
    "> ## Exercise 04.3 (functions)\n",
    "> \n",
    "> Given the coordinates of the vertices of a triangle, $(x_0, y_0)$, $(x_1, y_1)$ and $(x_2, y_2)$, the area $A$ of a triangle is given by:\n",
    "> \n",
    "> $$\n",
    "A = \\left| \\frac{x_0(y_1  - y_2) + x_1(y_2 - y_0) + x_2(y_0 - y_1)}{2} \\right|\n",
    "$$\n",
    "> \n",
    "> Write a function that computes the area of a triangle given the coordinates of the vertices.\n",
    "> Test the output of your function against some known solutions."
   ]
  },
  {
   "cell_type": "code",
   "execution_count": 5,
   "metadata": {
    "collapsed": false
   },
   "outputs": [
    {
     "name": "stdout",
     "output_type": "stream",
     "text": [
      "0.5\n",
      "5.25\n"
     ]
    }
   ],
   "source": [
    "# Part IA Computing: Michaelmas Term\n",
    "# Edwin Bahrami Balani (eb677@cam.ac.uk)\n",
    "\n",
    "# Exercise 04.3\n",
    "\n",
    "def area(x0, y0, x1, y1, x2, y2):\n",
    "    return abs((x0*(y1-y2) + x1*(y2-y0) + x2*(y0 - y1))/2)\n",
    "\n",
    "print(area(0,0, 0,1, 1,0)) # should be 0.5\n",
    "print(area(5,3, 3,6, 4.5,9)) # should be 5.25 (calculated with GeoGebra)"
   ]
  },
  {
   "cell_type": "markdown",
   "metadata": {},
   "source": [
    "> ## Exercise 04.4 (recursion)\n",
    "> \n",
    "> The factorial of a non-negative integer $n$ ($n!$) is expressed recursively by:\n",
    "> \n",
    "> $$\n",
    "n! = \n",
    "\\begin{cases}\n",
    "1 & n = 0 \\\\\n",
    "(n - 1)! \\,n & n > 0\n",
    "\\end{cases}\n",
    "$$\n",
    "> \n",
    "> Using recursion, program a function for computing the factorial.\n",
    "> \n",
    "> Test your function against the `math.factorial` function, e.g."
   ]
  },
  {
   "cell_type": "code",
   "execution_count": 1,
   "metadata": {
    "collapsed": false,
    "scrolled": true
   },
   "outputs": [
    {
     "name": "stdout",
     "output_type": "stream",
     "text": [
      "Reference factorial: 120\n"
     ]
    }
   ],
   "source": [
    "import math\n",
    "print(\"Reference factorial:\", math.factorial(5))"
   ]
  },
  {
   "cell_type": "code",
   "execution_count": 11,
   "metadata": {
    "collapsed": false
   },
   "outputs": [
    {
     "name": "stdout",
     "output_type": "stream",
     "text": [
      "Ref\tOurs\tDiff\n",
      "1\t1\t0\n",
      "2\t2\t0\n",
      "6\t6\t0\n",
      "24\t24\t0\n",
      "6402373705728000\t6402373705728000\t0\n",
      "1307674368000\t1307674368000\t0\n",
      "51090942171709440000\t51090942171709440000\t0\n"
     ]
    }
   ],
   "source": [
    "# Part IA Computing: Michaelmas Term\n",
    "# Edwin Bahrami Balani (eb677@cam.ac.uk)\n",
    "\n",
    "# Exercise 04.4\n",
    "from math import factorial\n",
    "\n",
    "def fact_recur(n):\n",
    "    if n < 0: # naughty! factorial not defined\n",
    "        return 666\n",
    "    if n == 0:\n",
    "        return 1\n",
    "    return n*fact_recur(n-1)\n",
    "\n",
    "print('Ref', 'Ours', 'Diff', sep='\\t')\n",
    "for n in [1, 2, 3, 4, 18, 15, 21]:\n",
    "    r = factorial(n)\n",
    "    f = fact_recur(n)\n",
    "    print(f, r, f-r, sep='\\t')"
   ]
  },
  {
   "cell_type": "markdown",
   "metadata": {},
   "source": [
    "> ## Exercise 04.5 (functions and passing functions as arguments)\n",
    "> \n",
    "> Restructure your program from the bisection exercise in Activity 02 to \n",
    "> \n",
    "> - Use a Python function to evaluate the mathematical function $f$ that we want to find the root of; \n",
    "> \n",
    "> and then\n",
    "> \n",
    "> - Encapsulate the bisection algorithm inside a Python function, which takes as arguments:\n",
    ">     - the function we want to find the roots of,\n",
    ">     - the points $x_{0}$ and $x_{1}$ between which we want to search for a root,\n",
    ">     - the tolerance for exiting the bisection algorithm (exit when $|f(x)| < \\text{tol}$)\n",
    ">     - maximum number of iterations (the algorithm should exit once this limit is reached)\n",
    "> \n",
    "> \n",
    "> For the first step, use a function for evaluating $f$, e.g.:\n",
    "> \n",
    ">     def f(x):\n",
    ">         # Put body of the function f(x) here, and return the function value\n",
    ">            \n",
    "> For the second step, encapsulate the bisection algorithm in a function:\n",
    "> \n",
    ">     def compute_root(f, x0, x1, tol, max_it):\n",
    ">         # Implement bisection algorithm here, and return when tolerance is satisfied or\n",
    ">         # number of iterations exceeds max_it\n",
    ">         \n",
    ">         # Return the approximate root, value of f(x) and the number of iterations\n",
    ">         return x, f, num_it\n",
    ">         \n",
    ">     # Compute approximate root of the function f\n",
    ">     x, f_x, num_it = compute_root(f, x0=3, x1=6, tol=1.0e-6, max_it=1000)\n",
    "> \n",
    "> \n",
    "> Try testing your program for a different function. A quadratic function, whose roots you can analytically, would be a good test case.\n",
    "> \n",
    "> \n",
    "> ### Optional extension \n",
    "> \n",
    "> Use recursion to write a `compute_root` function that *does not* require a `for` or `while` loop."
   ]
  },
  {
   "cell_type": "code",
   "execution_count": 77,
   "metadata": {
    "collapsed": false
   },
   "outputs": [
    {
     "name": "stdout",
     "output_type": "stream",
     "text": [
      "(4.534070134162903, -7.047073751209609e-07, 23)\n",
      "(-1.0000000000000142, 2.7000623958883807e-13, 46)\n",
      "(1.7142857142856656, -9.272582701669307e-13, 43)\n",
      "(-1.0000000000000142, 2.7000623958883807e-13, 46)\n"
     ]
    }
   ],
   "source": [
    "# Part IA Computing: Michaelmas Term\n",
    "# Edwin Bahrami Balani (eb677@cam.ac.uk)\n",
    "\n",
    "# Exercise 04.5\n",
    "\n",
    "def compute_root(f, x0, x1, tol, max_it):\n",
    "    \"\"\"Finds a root of function f(x) between x=x0 and x=x1\"\"\"\n",
    "    i = 0\n",
    "    xmid = (x0+x1)/2\n",
    "    fmid = f(xmid)\n",
    "    while (abs(fmid) >= tol) and (i < max_it):\n",
    "        i += 1\n",
    "        xmid = (x0+x1)/2\n",
    "        fmid = f(xmid)\n",
    "        if (fmid * f(x0) < 0):\n",
    "            x1 = xmid\n",
    "        else:\n",
    "            x0 = xmid\n",
    "    return xmid, fmid, i\n",
    "\n",
    "\n",
    "\n",
    "f = lambda x: x**3 - 6*(x**2) + 4*x + 12\n",
    "print(compute_root(f, x0=3, x1=6, tol=1.0e-6, max_it=1000))\n",
    "\n",
    "g = lambda x: 7*(x**2) - 5*x - 12\n",
    "# roots are x = -1, x = 1.714 (i.e. 12/7)\n",
    "print(compute_root(g, x0=-5, x1=2, tol=1.0e-12, max_it=1000))\n",
    "print(compute_root(g, x0= 0, x1=3, tol=1.0e-12, max_it=1000))\n",
    "\n",
    "\n",
    "#from sys import getrecursionlimit\n",
    "def root_recur(f, x0, x1, tol, rec_count=1):\n",
    "    xmid = (x0+x1)/2\n",
    "    fmid = f(xmid)\n",
    "    if abs(fmid) < tol: #or (rec_count + 50) >= getrecursionlimit(): # +50 for safety\n",
    "        return xmid, fmid, rec_count\n",
    "    if (fmid * f(x0) < 0):\n",
    "        return(root_recur(f, x0, xmid, tol, rec_count+1))\n",
    "    else:\n",
    "        return(root_recur(f, xmid, x1, tol, rec_count+1))\n",
    "    \n",
    "print(root_recur(g, x0=-5, x1=2, tol=1.0e-12))"
   ]
  }
 ],
 "metadata": {
  "anaconda-cloud": {},
  "kernelspec": {
   "display_name": "Python [default]",
   "language": "python",
   "name": "python3"
  },
  "language_info": {
   "codemirror_mode": {
    "name": "ipython",
    "version": 3
   },
   "file_extension": ".py",
   "mimetype": "text/x-python",
   "name": "python",
   "nbconvert_exporter": "python",
   "pygments_lexer": "ipython3",
   "version": "3.5.2"
  }
 },
 "nbformat": 4,
 "nbformat_minor": 1
}
