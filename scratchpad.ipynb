{
 "cells": [
  {
   "cell_type": "code",
   "execution_count": 2,
   "metadata": {
    "collapsed": false
   },
   "outputs": [
    {
     "name": "stdout",
     "output_type": "stream",
     "text": [
      "-0.9999999999999121\n"
     ]
    }
   ],
   "source": [
    "import math\n",
    "x = 3*math.pi/2\n",
    "def f(n):\n",
    "    return ((-1)**n) * (x**(2*n+1)) / math.factorial(2*n + 1)\n",
    "print(sum(map(f, range(15))))"
   ]
  },
  {
   "cell_type": "code",
   "execution_count": 7,
   "metadata": {
    "collapsed": false
   },
   "outputs": [
    {
     "name": "stdout",
     "output_type": "stream",
     "text": [
      "[0, 2, 4, 6, 8, 10, 12, 14, 16, 18, 20, 22, 24, 26, 28]\n"
     ]
    }
   ],
   "source": [
    "output=[]\n",
    "for i in range(15):\n",
    "    output.append(2*i)\n",
    "print(output)"
   ]
  },
  {
   "cell_type": "code",
   "execution_count": 8,
   "metadata": {
    "collapsed": true
   },
   "outputs": [],
   "source": [
    "def map(func, iterable):\n",
    "    output = [] # Empty list for output\n",
    "    for i in iterable:\n",
    "        output.append(func(i))\n",
    "    return output"
   ]
  },
  {
   "cell_type": "code",
   "execution_count": 9,
   "metadata": {
    "collapsed": false
   },
   "outputs": [
    {
     "data": {
      "text/plain": [
       "-0.9999999999999121"
      ]
     },
     "execution_count": 9,
     "metadata": {},
     "output_type": "execute_result"
    }
   ],
   "source": [
    "sum(map(f, range(15)))"
   ]
  },
  {
   "cell_type": "code",
   "execution_count": 4,
   "metadata": {
    "collapsed": false
   },
   "outputs": [
    {
     "data": {
      "text/plain": [
       "range(0, 15)"
      ]
     },
     "execution_count": 4,
     "metadata": {},
     "output_type": "execute_result"
    }
   ],
   "source": [
    "range(15)"
   ]
  },
  {
   "cell_type": "code",
   "execution_count": 3,
   "metadata": {
    "collapsed": false
   },
   "outputs": [],
   "source": [
    "n = 0\n",
    "def f(x):\n",
    "    return (x**3) - (6*x**2) + (4*x) + 12\n",
    "def compute_root(f, x0, x1, xmid, tol, max_it):\n",
    "    x0, x1, tol, max_it = 3, 6, 1e-8, 1000\n",
    "    while abs(f(xmid)) >= tol or i > max_it:\n",
    "        print(n) # DEBUG\n",
    "        n = n+1\n",
    "        xmid = (x0 + x1)/2\n",
    "        if f(x0)*f(xmid) < 0:\n",
    "              x1 = xmid\n",
    "        else:\n",
    "              x0 = xmid\n",
    "    return xmid\n",
    "    return n\n",
    "    return f(xmid)"
   ]
  },
  {
   "cell_type": "code",
   "execution_count": null,
   "metadata": {
    "collapsed": true
   },
   "outputs": [],
   "source": []
  }
 ],
 "metadata": {
  "anaconda-cloud": {},
  "kernelspec": {
   "display_name": "Python [conda root]",
   "language": "python",
   "name": "conda-root-py"
  },
  "language_info": {
   "codemirror_mode": {
    "name": "ipython",
    "version": 3
   },
   "file_extension": ".py",
   "mimetype": "text/x-python",
   "name": "python",
   "nbconvert_exporter": "python",
   "pygments_lexer": "ipython3",
   "version": "3.5.2"
  }
 },
 "nbformat": 4,
 "nbformat_minor": 1
}
